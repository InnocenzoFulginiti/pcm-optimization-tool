{
 "cells": [
  {
   "cell_type": "markdown",
   "id": "e2717906",
   "metadata": {},
   "source": [
    "# MMR"
   ]
  },
  {
   "cell_type": "markdown",
   "id": "304024d0",
   "metadata": {},
   "source": [
    "## Dataset creation"
   ]
  },
  {
   "cell_type": "markdown",
   "id": "de883d23",
   "metadata": {},
   "source": [
    "### Function to create a random dynamic circuit\n",
    "\n",
    "This is a modified version of the Qiskit function random_circuit()"
   ]
  },
  {
   "cell_type": "code",
   "execution_count": 11,
   "id": "5e117b6f",
   "metadata": {},
   "outputs": [],
   "source": [
    "# This code is part of Qiskit.\n",
    "#\n",
    "# (C) Copyright IBM 2017.\n",
    "#\n",
    "# This code is licensed under the Apache License, Version 2.0. You may\n",
    "# obtain a copy of this license in the LICENSE.txt file in the root directory\n",
    "# of this source tree or at http://www.apache.org/licenses/LICENSE-2.0.\n",
    "#\n",
    "# Any modifications or derivative works of this code must retain this\n",
    "# copyright notice, and modified files need to carry a notice indicating\n",
    "# that they have been altered from the originals.\n",
    "\n",
    "\"\"\"Utility functions for generating random circuits.\"\"\"\n",
    "\n",
    "import numpy as np\n",
    "\n",
    "from qiskit.circuit import QuantumRegister, ClassicalRegister, QuantumCircuit\n",
    "from qiskit.circuit import Reset\n",
    "from qiskit.circuit.library.standard_gates import (\n",
    "    IGate,\n",
    "    U1Gate,\n",
    "    U2Gate,\n",
    "    U3Gate,\n",
    "    XGate,\n",
    "    YGate,\n",
    "    ZGate,\n",
    "    HGate,\n",
    "    SGate,\n",
    "    SdgGate,\n",
    "    TGate,\n",
    "    TdgGate,\n",
    "    RXGate,\n",
    "    RYGate,\n",
    "    RZGate,\n",
    "    CXGate,\n",
    "    CYGate,\n",
    "    CZGate,\n",
    "    CHGate,\n",
    "    CRZGate,\n",
    "    CU1Gate,\n",
    "    CU3Gate,\n",
    "    SwapGate,\n",
    "    RZZGate,\n",
    "    CCXGate,\n",
    "    CSwapGate,\n",
    ")\n",
    "from qiskit.circuit.exceptions import CircuitError\n",
    "\n",
    "\n",
    "def my_random_circuit(\n",
    "    num_qubits, depth, max_operands=3, measure=False, conditional=True, reset=False, seed=None, measurements_density=1\n",
    "):\n",
    "    \"\"\"Generate random circuit of arbitrary size and form.\n",
    "\n",
    "    This function will generate a random circuit by randomly selecting gates\n",
    "    from the set of standard gates in :mod:`qiskit.extensions`. For example:\n",
    "\n",
    "    .. jupyter-execute::\n",
    "\n",
    "        from qiskit.circuit.random import random_circuit\n",
    "\n",
    "        circ = random_circuit(2, 2, measure=True)\n",
    "        circ.draw(output='mpl')\n",
    "\n",
    "    Args:\n",
    "        num_qubits (int): number of quantum wires\n",
    "        depth (int): layers of operations (i.e. critical path length)\n",
    "        max_operands (int): maximum operands of each gate (between 1 and 3)\n",
    "        measure (bool): if True, measure all qubits at the end\n",
    "        conditional (bool): if True, insert middle measurements and conditionals\n",
    "        reset (bool): if True, insert middle resets\n",
    "        seed (int): sets random seed (optional)\n",
    "\n",
    "    Returns:\n",
    "        QuantumCircuit: constructed circuit\n",
    "\n",
    "    Raises:\n",
    "        CircuitError: when invalid options given\n",
    "    \"\"\"\n",
    "    if max_operands < 1 or max_operands > 3:\n",
    "        raise CircuitError(\"max_operands must be between 1 and 3\")\n",
    "\n",
    "    one_q_ops = [\n",
    "        #IGate,\n",
    "        U1Gate,\n",
    "        U2Gate,\n",
    "        U3Gate,\n",
    "        XGate,\n",
    "        YGate,\n",
    "        ZGate,\n",
    "        HGate,\n",
    "        SGate,\n",
    "        SdgGate,\n",
    "        TGate,\n",
    "        TdgGate,\n",
    "        RXGate,\n",
    "        RYGate,\n",
    "        RZGate,\n",
    "    ]\n",
    "    \n",
    "    one_param = [\n",
    "        U1Gate,\n",
    "        RXGate,\n",
    "        RYGate,\n",
    "        RZGate,\n",
    "        RZZGate,\n",
    "        CU1Gate,\n",
    "        CRZGate\n",
    "    ]\n",
    "    \n",
    "    two_param = [\n",
    "        U2Gate\n",
    "    ]\n",
    "    \n",
    "    three_param = [\n",
    "        U3Gate, \n",
    "        CU3Gate\n",
    "    ]\n",
    "    \n",
    "    two_q_ops = [\n",
    "        CXGate,\n",
    "        CYGate,\n",
    "        CZGate,\n",
    "        CHGate,\n",
    "        CRZGate,\n",
    "        CU1Gate,\n",
    "        CU3Gate,\n",
    "        SwapGate,\n",
    "        RZZGate\n",
    "    ]\n",
    "    \n",
    "    three_q_ops = [CCXGate, CSwapGate]\n",
    "\n",
    "    qr = QuantumRegister(num_qubits, \"q\")\n",
    "    qc = QuantumCircuit(num_qubits)\n",
    "    \n",
    "    cr_i = []\n",
    "    if conditional:\n",
    "        for i in range(num_qubits):\n",
    "            cr_i.append(ClassicalRegister(1, f\"c{i}\"))\n",
    "            qc.add_register(cr_i[i])\n",
    "\n",
    "    if measure or conditional:\n",
    "        cr = ClassicalRegister(num_qubits, \"c\")\n",
    "        qc.add_register(cr)\n",
    "\n",
    "    if reset:\n",
    "        one_q_ops += [Reset]\n",
    "\n",
    "    if seed is None:\n",
    "        seed = np.random.randint(0, np.iinfo(np.int32).max)\n",
    "        \n",
    "    rng = np.random.default_rng(seed)\n",
    "\n",
    "    # apply arbitrary random operations at every depth\n",
    "    for _ in range(depth):\n",
    "        # choose either 1, 2, or 3 qubits for the operation\n",
    "        remaining_qubits = list(range(num_qubits))\n",
    "        rng.shuffle(remaining_qubits)\n",
    "        while remaining_qubits:\n",
    "            max_possible_operands = min(len(remaining_qubits), max_operands)\n",
    "            num_operands = rng.choice(range(max_possible_operands)) + 1\n",
    "            operands = [remaining_qubits.pop() for _ in range(num_operands)]\n",
    "            if num_operands == 1:\n",
    "                operation = rng.choice(one_q_ops)\n",
    "            elif num_operands == 2:\n",
    "                operation = rng.choice(two_q_ops)\n",
    "            elif num_operands == 3:\n",
    "                operation = rng.choice(three_q_ops)\n",
    "            if operation in one_param:\n",
    "                num_angles = 1\n",
    "            elif operation in two_param:\n",
    "                num_angles = 2\n",
    "            elif operation in three_param:\n",
    "                num_angles = 3\n",
    "            else:\n",
    "                num_angles = 0\n",
    "            angles = [rng.uniform(0, 2 * np.pi) for x in range(num_angles)]\n",
    "            register_operands = [qr[i] for i in operands]\n",
    "            op = operation(*angles)\n",
    "\n",
    "            # with some low probability, condition on classical bit values\n",
    "            if conditional and rng.choice(range(measurements_density)) == 0 and len(remaining_qubits) > 0 and num_operands == 1:\n",
    "                value = 1 # Condition value for the classical controlled operation\n",
    "                \n",
    "                measured_qubit = remaining_qubits.pop()\n",
    "                \n",
    "                qc.measure(qr[measured_qubit], cr_i[measured_qubit])\n",
    "                \n",
    "                op = op.c_if(cr_i[measured_qubit], 1)\n",
    "                \n",
    "            qc.append(op, register_operands)\n",
    "\n",
    "    if measure:\n",
    "        qc.measure(qr, cr)\n",
    "\n",
    "    return qc"
   ]
  },
  {
   "cell_type": "markdown",
   "id": "bf1e494f",
   "metadata": {},
   "source": [
    "### Functions to generate datasets of circuits based on different metrics"
   ]
  },
  {
   "cell_type": "markdown",
   "id": "4ca1c0fa",
   "metadata": {},
   "source": [
    "#### Function to generate a dataset of dynamic circuits"
   ]
  },
  {
   "cell_type": "code",
   "execution_count": 12,
   "id": "c178bcd2",
   "metadata": {},
   "outputs": [],
   "source": [
    "def generate_dataset(num_circuits, num_qubits, depth, max_operands, measure, reset, seed):\n",
    "    dataset = []\n",
    "    for _ in range(num_circuits):\n",
    "        num_qubits = random.randint(2, max_qubits)  # Random number of qubits between 2 and max_qubits\n",
    "        depth = random.randint(2, max_depth)        # Random depth between 2 and max_depth\n",
    "        dynamic_circuit = generate_dynamic_circuit(num_qubits, depth)\n",
    "        dataset.append(dynamic_circuit.qasm())      # Store the circuit in OpenQASM format\n",
    "    \n",
    "    return dataset"
   ]
  },
  {
   "cell_type": "markdown",
   "id": "3b8911ef",
   "metadata": {},
   "source": [
    "#### Generates a set of random circuits given a fixed number of qubits and measurements density"
   ]
  },
  {
   "cell_type": "code",
   "execution_count": 13,
   "id": "31599e22",
   "metadata": {},
   "outputs": [],
   "source": [
    "def generate_depth(num_qubits, measurements_density, num_circuits=2,\n",
    "                             min_depth=2, max_depth=10, step_depth=1):\n",
    "    dataset = []\n",
    "    for depth in range(min_depth, max_depth, step_depth):\n",
    "        for i in range(num_circuits):\n",
    "            dataset.append(my_random_circuit(num_qubits=num_qubits, depth=depth, max_operands=max_operands,\n",
    "                        measure=measure, reset=reset, seed=seed, measurements_density=measurements_density).qasm())\n",
    "    return dataset\n",
    "                \n",
    "    "
   ]
  },
  {
   "cell_type": "markdown",
   "id": "aede8719",
   "metadata": {},
   "source": [
    "#### Generates a set of random circuits given a fixed number of qubits and depth\n"
   ]
  },
  {
   "cell_type": "code",
   "execution_count": 14,
   "id": "25281ad4",
   "metadata": {},
   "outputs": [],
   "source": [
    "def generate_density(num_qubits, depth, num_circuits=2,\n",
    "                             min_density=2, max_density=10, step_density=1):\n",
    "    dataset = []\n",
    "    for measurements_density in range(min_density, max_density, step_density):\n",
    "        for i in range(num_circuits):\n",
    "            dataset.append(my_random_circuit(num_qubits=num_qubits, depth=depth, max_operands=max_operands,\n",
    "                        measure=measure, reset=reset, seed=seed, measurements_density=measurements_density).qasm())\n",
    "    return dataset"
   ]
  },
  {
   "cell_type": "markdown",
   "id": "3fbea50b",
   "metadata": {},
   "source": [
    "#### Generates a set of random circuits given a fixed measurements density of qubits and depth\n"
   ]
  },
  {
   "cell_type": "code",
   "execution_count": 15,
   "id": "6ae3a36a",
   "metadata": {},
   "outputs": [],
   "source": [
    "def generate_num_qubits(density, depth, num_circuits=2,\n",
    "                             min_num_qubits=2, max_num_qubits=10, step_num_qubits=1):\n",
    "    dataset = []\n",
    "    for num_qubits in range(min_num_qubits, max_num_qubits, step_num_qubits):\n",
    "        for i in range(num_circuits):\n",
    "            dataset.append(my_random_circuit(num_qubits=num_qubits, depth=depth, max_operands=max_operands,\n",
    "                        measure=measure, reset=reset, seed=seed, measurements_density=measurements_density).qasm())\n",
    "    return dataset"
   ]
  },
  {
   "cell_type": "markdown",
   "id": "f4b59f53",
   "metadata": {},
   "source": [
    "### Generate datasets"
   ]
  },
  {
   "cell_type": "markdown",
   "id": "efc97a96",
   "metadata": {},
   "source": [
    "#### Set up parameters to generate the dataset"
   ]
  },
  {
   "cell_type": "code",
   "execution_count": 16,
   "id": "bce03fd1",
   "metadata": {},
   "outputs": [],
   "source": [
    "import os\n",
    "import subprocess\n",
    "\n",
    "max_operands = 3\n",
    "measure = True\n",
    "reset = False\n",
    "seed = None\n"
   ]
  },
  {
   "cell_type": "code",
   "execution_count": 17,
   "id": "da042036",
   "metadata": {},
   "outputs": [],
   "source": [
    "num_qubits = 8\n",
    "depth = 20\n",
    "min_density = 4\n",
    "max_density = 8\n",
    "step_density = 1\n",
    "\n",
    "num_circuits = 10\n",
    "\n",
    "cpp_program = \"../build/qcprop_main\"\n",
    "\n",
    "input_folder = f\"./input_circuits_n_{num_qubits}_dp_{depth}_dn_{min_density}_{max_density}_res_{reset}\"\n",
    "output_folder = f\"./output_circuits_n_{num_qubits}_dp_{depth}_dn_{min_density}_{max_density}_res_{reset}\""
   ]
  },
  {
   "cell_type": "code",
   "execution_count": 22,
   "id": "f9b7d48b",
   "metadata": {},
   "outputs": [],
   "source": [
    "os.makedirs(input_folder, exist_ok=True)\n",
    "os.makedirs(output_folder, exist_ok=True)\n",
    "\n",
    "generated_circuits = generate_density(num_qubits=num_qubits, depth=depth,\n",
    "    num_circuits=num_circuits, min_density=min_density, max_density=max_density, step_density=step_density)\n",
    "\n",
    "for i, circuit in enumerate(generated_circuits):\n",
    "    filename = os.path.join(input_folder, f\"c_{i}.qasm\")\n",
    "    with open(filename, 'w') as file:\n",
    "        file.write(circuit)"
   ]
  },
  {
   "cell_type": "markdown",
   "id": "fea46bc9",
   "metadata": {},
   "source": [
    "### Generate output files"
   ]
  },
  {
   "cell_type": "code",
   "execution_count": 23,
   "id": "669a5af6",
   "metadata": {},
   "outputs": [
    {
     "name": "stdout",
     "output_type": "stream",
     "text": [
      "\u001b[92mCorrectly processed c_31.qasm -> output_c_31.qasm\u001b[0m\n",
      "\u001b[92mCorrectly processed c_27.qasm -> output_c_27.qasm\u001b[0m\n",
      "\u001b[92mCorrectly processed c_11.qasm -> output_c_11.qasm\u001b[0m\n",
      "\u001b[92mCorrectly processed c_7.qasm -> output_c_7.qasm\u001b[0m\n",
      "\u001b[92mCorrectly processed c_6.qasm -> output_c_6.qasm\u001b[0m\n",
      "\u001b[92mCorrectly processed c_10.qasm -> output_c_10.qasm\u001b[0m\n",
      "\u001b[92mCorrectly processed c_26.qasm -> output_c_26.qasm\u001b[0m\n",
      "\u001b[92mCorrectly processed c_30.qasm -> output_c_30.qasm\u001b[0m\n",
      "\u001b[92mCorrectly processed c_17.qasm -> output_c_17.qasm\u001b[0m\n",
      "\u001b[92mCorrectly processed c_1.qasm -> output_c_1.qasm\u001b[0m\n",
      "\u001b[92mCorrectly processed c_37.qasm -> output_c_37.qasm\u001b[0m\n",
      "\u001b[92mCorrectly processed c_21.qasm -> output_c_21.qasm\u001b[0m\n",
      "\u001b[92mCorrectly processed c_20.qasm -> output_c_20.qasm\u001b[0m\n",
      "\u001b[92mCorrectly processed c_36.qasm -> output_c_36.qasm\u001b[0m\n",
      "\u001b[92mCorrectly processed c_0.qasm -> output_c_0.qasm\u001b[0m\n",
      "\u001b[92mCorrectly processed c_16.qasm -> output_c_16.qasm\u001b[0m\n",
      "\u001b[92mCorrectly processed c_3.qasm -> output_c_3.qasm\u001b[0m\n",
      "\u001b[92mCorrectly processed c_39.qasm -> output_c_39.qasm\u001b[0m\n",
      "\u001b[92mCorrectly processed c_15.qasm -> output_c_15.qasm\u001b[0m\n",
      "\u001b[92mCorrectly processed c_23.qasm -> output_c_23.qasm\u001b[0m\n",
      "\u001b[92mCorrectly processed c_35.qasm -> output_c_35.qasm\u001b[0m\n",
      "\u001b[92mCorrectly processed c_19.qasm -> output_c_19.qasm\u001b[0m\n",
      "\u001b[92mCorrectly processed c_18.qasm -> output_c_18.qasm\u001b[0m\n",
      "\u001b[92mCorrectly processed c_34.qasm -> output_c_34.qasm\u001b[0m\n",
      "\u001b[92mCorrectly processed c_22.qasm -> output_c_22.qasm\u001b[0m\n",
      "\u001b[92mCorrectly processed c_14.qasm -> output_c_14.qasm\u001b[0m\n",
      "\u001b[92mCorrectly processed c_38.qasm -> output_c_38.qasm\u001b[0m\n",
      "\u001b[92mCorrectly processed c_2.qasm -> output_c_2.qasm\u001b[0m\n",
      "\u001b[92mCorrectly processed c_25.qasm -> output_c_25.qasm\u001b[0m\n",
      "\u001b[92mCorrectly processed c_33.qasm -> output_c_33.qasm\u001b[0m\n",
      "\u001b[92mCorrectly processed c_9.qasm -> output_c_9.qasm\u001b[0m\n",
      "\u001b[92mCorrectly processed c_29.qasm -> output_c_29.qasm\u001b[0m\n",
      "\u001b[92mCorrectly processed c_5.qasm -> output_c_5.qasm\u001b[0m\n",
      "\u001b[92mCorrectly processed c_13.qasm -> output_c_13.qasm\u001b[0m\n",
      "\u001b[92mCorrectly processed c_12.qasm -> output_c_12.qasm\u001b[0m\n",
      "\u001b[92mCorrectly processed c_4.qasm -> output_c_4.qasm\u001b[0m\n",
      "\u001b[92mCorrectly processed c_28.qasm -> output_c_28.qasm\u001b[0m\n",
      "\u001b[92mCorrectly processed c_8.qasm -> output_c_8.qasm\u001b[0m\n",
      "\u001b[92mCorrectly processed c_32.qasm -> output_c_32.qasm\u001b[0m\n",
      "\u001b[92mCorrectly processed c_24.qasm -> output_c_24.qasm\u001b[0m\n"
     ]
    }
   ],
   "source": [
    "for input_filename in os.listdir(input_folder):\n",
    "    input_file_path = os.path.join(input_folder, input_filename)\n",
    "    \n",
    "    # Don't consider folders\n",
    "    if not os.path.isfile(input_file_path):\n",
    "        continue\n",
    "        \n",
    "    if not input_file_path.endswith(\".qasm\"):\n",
    "        continue\n",
    "    \n",
    "    # Generate the output filename and path\n",
    "    output_filename = f\"output_{input_filename}\"\n",
    "    output_file_path = os.path.join(output_folder, output_filename)\n",
    "    \n",
    "    # Run the C++ program with the input and output paths as arguments\n",
    "    try:\n",
    "        subprocess.run([cpp_program, input_file_path, output_file_path], check=True)\n",
    "        print(f\"\\033[92mCorrectly processed {input_filename} -> {output_filename}\\033[0m\")\n",
    "    except subprocess.CalledProcessError as e:\n",
    "        print(f\"\\033[91mError processing {input_filename}: {e}\\033[0m\")\n",
    "        #os.remove(input_file_path)"
   ]
  },
  {
   "cell_type": "markdown",
   "id": "b5f17fde",
   "metadata": {},
   "source": [
    "## Count the number of measurements"
   ]
  },
  {
   "cell_type": "code",
   "execution_count": null,
   "id": "417bc903",
   "metadata": {},
   "outputs": [],
   "source": [
    "# Function to count the total number of measurements and probabilisti cates in the files of a given folder\n",
    "def count_measure_operations(folder):\n",
    "    measure_count = 0\n",
    "    prob_gate_count = 0\n",
    "    num_circuits = 0\n",
    "    \n",
    "    for filename in os.listdir(folder):\n",
    "        file_path = os.path.join(folder, filename)\n",
    "        \n",
    "         # Only process QASM files\n",
    "        if not os.path.isfile(file_path) or not filename.endswith(\".qasm\"):\n",
    "            continue\n",
    "        \n",
    "        with open(file_path, \"r\") as file:\n",
    "            num_circuits += 1\n",
    "            for line in file:\n",
    "                measure_count += line.count(\"measure\")\n",
    "                prob_gate_count += line.count(\"prob_\")\n",
    "    \n",
    "    return [measure_count, prob_gate_count, num_circuits]"
   ]
  },
  {
   "cell_type": "code",
   "execution_count": null,
   "id": "33a0f082",
   "metadata": {},
   "outputs": [],
   "source": [
    "[input_measurements, _, input_num_circuits] = count_measure_operations(input_folder)\n",
    "[output_measurements, output_prob_gates, output_num_circuits] = count_measure_operations(output_folder)"
   ]
  },
  {
   "cell_type": "code",
   "execution_count": null,
   "id": "aeef60c9",
   "metadata": {},
   "outputs": [],
   "source": [
    "print(f\"Total measurements in input folder: {input_measurements}\")\n",
    "print(f\"Num circuits in input folder: {input_num_circuits}\")\n",
    "print(f\"Average measurement operations (inputs): {input_measurements / input_num_circuits}\")\n",
    "print(\"-------\")\n",
    "print(f\"Total measurements in output folder: {output_measurements}\")\n",
    "print(f\"Num circuits in output folder: {output_num_circuits}\")\n",
    "print(f\"Average measurement operations (outputs): {output_measurements / output_num_circuits}\")\n",
    "print(\"-------\")\n",
    "if input_measurements != 0:\n",
    "    print(f\"Measurement reduction: {100 - output_measurements * 100 / input_measurements}%\")\n",
    "    print(f\"Number of measuremnts removed: {input_measurements - output_measurements}\")\n",
    "    print(f\"Total probabilistic gates in output folder: {output_prob_gates}\")"
   ]
  },
  {
   "cell_type": "code",
   "execution_count": 269,
   "id": "a3aa5638",
   "metadata": {},
   "outputs": [
    {
     "name": "stdout",
     "output_type": "stream",
     "text": [
      "./input_circuits_n_5_dp_20_dn_12_14_res_False\n"
     ]
    }
   ],
   "source": [
    "print(input_folder)"
   ]
  },
  {
   "cell_type": "markdown",
   "id": "f4580cdc",
   "metadata": {},
   "source": [
    "### Visualize circuit"
   ]
  },
  {
   "cell_type": "code",
   "execution_count": 325,
   "id": "f8c9cc03",
   "metadata": {},
   "outputs": [
    {
     "data": {
      "image/png": "[encoded data removed]",
      "text/plain": [
       "<Figure size 371.107x953.167 with 1 Axes>"
      ]
     },
     "execution_count": 325,
     "metadata": {},
     "output_type": "execute_result"
    }
   ],
   "source": [
    "from qiskit import QuantumCircuit\n",
    "\n",
    "circuit = QuantumCircuit.from_qasm_file(\"./input_circuits_n_5_dp_10_dn_7_14_res_False/c_0.qasm\")\n",
    "circuit.draw(output='mpl')"
   ]
  },
  {
   "cell_type": "code",
   "execution_count": 328,
   "id": "378deba0",
   "metadata": {},
   "outputs": [
    {
     "data": {
      "image/png": "[encoded data removed]",
      "text/plain": [
       "<Figure size 705.552x953.167 with 1 Axes>"
      ]
     },
     "execution_count": 328,
     "metadata": {},
     "output_type": "execute_result"
    }
   ],
   "source": [
    "circuit = QuantumCircuit.from_qasm_file(\"./output_circuits_n_5_dp_10_dn_7_14_res_False/output_c_0.qasm\")\n",
    "circuit.draw(output='mpl')"
   ]
  },
  {
   "cell_type": "code",
   "execution_count": null,
   "id": "70e1648e",
   "metadata": {},
   "outputs": [],
   "source": []
  }
 ],
 "metadata": {
  "kernelspec": {
   "display_name": "Python 3 (ipykernel)",
   "language": "python",
   "name": "python3"
  },
  "language_info": {
   "codemirror_mode": {
    "name": "ipython",
    "version": 3
   },
   "file_extension": ".py",
   "mimetype": "text/x-python",
   "name": "python",
   "nbconvert_exporter": "python",
   "pygments_lexer": "ipython3",
   "version": "3.11.5"
  }
 },
 "nbformat": 4,
 "nbformat_minor": 5
}
